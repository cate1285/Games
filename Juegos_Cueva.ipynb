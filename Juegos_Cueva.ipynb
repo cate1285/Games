{
  "nbformat": 4,
  "nbformat_minor": 0,
  "metadata": {
    "colab": {
      "name": "Juegos en Python",
      "provenance": [],
      "collapsed_sections": [],
      "authorship_tag": "ABX9TyNr15aJNNbZYgxA4ajgNrmy",
      "include_colab_link": true
    },
    "kernelspec": {
      "name": "python3",
      "display_name": "Python 3"
    }
  },
  "cells": [
    {
      "cell_type": "markdown",
      "metadata": {
        "id": "view-in-github",
        "colab_type": "text"
      },
      "source": [
        "<a href=\"https://colab.research.google.com/github/cate1285/Games/blob/main/Juegos_Cueva.ipynb\" target=\"_parent\"><img src=\"https://colab.research.google.com/assets/colab-badge.svg\" alt=\"Open In Colab\"/></a>"
      ]
    },
    {
      "cell_type": "markdown",
      "metadata": {
        "id": "FUxSGgmn6O0z"
      },
      "source": [
        ""
      ]
    },
    {
      "cell_type": "markdown",
      "metadata": {
        "id": "ow_yquZ03Set"
      },
      "source": [
        "Estás en una tierra llena de dragones. Frente a tí\r\n",
        "hay dos cuevas. En una de ellas, el dragón es generoso y amigable\r\n",
        "y compartirá su tesoro contigo. El otro dragón\r\n",
        "es codicioso y está hambriento, y te devorará inmediatamente.\r\n",
        "¿A qué cueva quieres entrar? (1 ó 2)\r\n",
        "1\r\n",
        "Te aproximas a la cueva...\r\n",
        "Es oscura y espeluznante...\r\n",
        "¡Un gran dragon aparece súbitamente frente a tí! Abre sus fauces y...\r\n",
        "¡Te engulle de un bocado!\r\n",
        "¿Quieres jugar de nuevo? (sí or no)\r\n",
        "no"
      ]
    },
    {
      "cell_type": "code",
      "metadata": {
        "colab": {
          "base_uri": "https://localhost:8080/"
        },
        "id": "w1JugOeu1MWa",
        "outputId": "64b1591b-6d71-49da-d380-33c0e2d95446"
      },
      "source": [
        "import random\r\n",
        "import time\r\n",
        "def mostrarIntroduccion():\r\n",
        "  print('Estás en una tierra llena de dragones. Frente a tí')\r\n",
        "  print('hay dos cuevas. En una de ellas, el dragón es generoso y')\r\n",
        "  print('amigable y compartirá su tesoro contigo. El otro dragón')\r\n",
        "  print('es codicioso y está hambriento, y te devorará inmediatamente.')\r\n",
        "  print()\r\n",
        "\r\n",
        "mostrarIntroduccion()\r\n",
        "seguir=\"\"\r\n",
        "while seguir.lower() != \"no\":\r\n",
        "  azar=random.randint(1,2)\r\n",
        "  numero=int(input(\"A que cueva quieres ingresar \\n -1 \\n -2\"))\r\n",
        "  print(\"Te aproximas a la cueva\")\r\n",
        "  time.sleep(2) \r\n",
        "  print(\"Es oscura y espeluznante\")\r\n",
        "  time.sleep(2)\r\n",
        "  print(\"¡Un gran dragon aparece súbitamente frente a tí! Abre sus fauces y...\")\r\n",
        "  time.sleep(5)\r\n",
        "  if numero == azar:\r\n",
        "    print(\"¡Te engulle de un bocado!\")\r\n",
        "  else:\r\n",
        "    print(\"Te regala su tesoro\")\r\n",
        "  seguir=input(\"Quieres seguir Jugando?\")\r\n",
        "  mostrarIntroduccion()\r\n",
        "print(\"Gracias por Jugar\")\r\n",
        "\r\n",
        "\r\n"
      ],
      "execution_count": 59,
      "outputs": [
        {
          "output_type": "stream",
          "text": [
            "Estás en una tierra llena de dragones. Frente a tí\n",
            "hay dos cuevas. En una de ellas, el dragón es generoso y\n",
            "amigable y compartirá su tesoro contigo. El otro dragón\n",
            "es codicioso y está hambriento, y te devorará inmediatamente.\n",
            "\n",
            "A que cueva quieres ingresar \n",
            " -1 \n",
            " -21\n",
            "Te aproximas a la cueva\n",
            "Es oscura y espeluznante\n",
            "¡Un gran dragon aparece súbitamente frente a tí! Abre sus fauces y...\n",
            "¡Te engulle de un bocado!\n",
            "Quieres seguir Jugando?NO\n",
            "Estás en una tierra llena de dragones. Frente a tí\n",
            "hay dos cuevas. En una de ellas, el dragón es generoso y\n",
            "amigable y compartirá su tesoro contigo. El otro dragón\n",
            "es codicioso y está hambriento, y te devorará inmediatamente.\n",
            "\n",
            "Gracias por Jugar\n"
          ],
          "name": "stdout"
        }
      ]
    },
    {
      "cell_type": "code",
      "metadata": {
        "id": "op6ykijb4bNN"
      },
      "source": [
        ""
      ],
      "execution_count": null,
      "outputs": []
    }
  ]
}