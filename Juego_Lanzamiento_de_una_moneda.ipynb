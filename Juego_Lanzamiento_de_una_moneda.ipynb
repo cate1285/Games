{
  "cells": [
    {
      "cell_type": "markdown",
      "metadata": {
        "colab_type": "text",
        "id": "view-in-github"
      },
      "source": [
        "<a href=\"https://colab.research.google.com/github/cate1285/Games/blob/main/Lanzamiento_de_una_moneda.ipynb\" target=\"_parent\"><img src=\"https://colab.research.google.com/assets/colab-badge.svg\" alt=\"Open In Colab\"/></a>"
      ]
    },
    {
      "cell_type": "markdown",
      "metadata": {
        "id": "S6vCR-jIsZxJ"
      },
      "source": [
        "Aquí un programa que simula lanzamientos de moneda llamando un random.randint(0,1). La\n",
        "función al retornar 1 será “cara” y 0 será “cruz”. La variable lanzamientos registará cuantos\n",
        "lanzamientos se efectuaron. La variable cara registará cuantos han salido cara."
      ]
    },
    {
      "cell_type": "code",
      "execution_count": 65,
      "metadata": {
        "colab": {
          "base_uri": "https://localhost:8080/"
        },
        "id": "-Pj3rlnbsbCa",
        "outputId": "bf524532-9bd5-4074-feab-142357aad97d"
      },
      "outputs": [
        {
          "name": "stdout",
          "output_type": "stream",
          "text": [
            "El numero de caras es 519 ,  El numero de Lanzamientos totales fue de 1000\n"
          ]
        }
      ],
      "source": [
        "import random \n",
        "\n",
        "sello=0\n",
        "lanzamiento=0\n",
        "cara = 0\n",
        "while lanzamiento < 1000:\n",
        "  numero=random.randint(0,1)\n",
        "  if numero ==0:\n",
        "    cara = cara +1\n",
        "  elif numero !=0:\n",
        "    sello=sello+1\n",
        "  lanzamiento=lanzamiento+1\n",
        "\n",
        "print(\"El numero de caras es \" + str(cara) +\" ,  El numero de Lanzamientos totales fue de \"+ str(lanzamiento))\n"
      ]
    },
    {
      "cell_type": "code",
      "execution_count": 9,
      "metadata": {
        "id": "dB_Di2Wsu4Pm"
      },
      "outputs": [],
      "source": []
    }
  ],
  "metadata": {
    "colab": {
      "authorship_tag": "ABX9TyMn/oeyCkmTadD34PCwA2Rc",
      "include_colab_link": true,
      "name": "Lanzamiento de una moneda",
      "provenance": []
    },
    "kernelspec": {
      "display_name": "Python 3",
      "name": "python3"
    }
  },
  "nbformat": 4,
  "nbformat_minor": 0
}
