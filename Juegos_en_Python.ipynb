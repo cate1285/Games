{
  "nbformat": 4,
  "nbformat_minor": 0,
  "metadata": {
    "colab": {
      "name": "Juegos en Python",
      "provenance": [],
      "collapsed_sections": [],
      "authorship_tag": "ABX9TyP9nYNNhgJaUC+H9870WP8d",
      "include_colab_link": true
    },
    "kernelspec": {
      "name": "python3",
      "display_name": "Python 3"
    }
  },
  "cells": [
    {
      "cell_type": "markdown",
      "metadata": {
        "id": "view-in-github",
        "colab_type": "text"
      },
      "source": [
        "<a href=\"https://colab.research.google.com/github/cate1285/Games/blob/main/Juegos_en_Python.ipynb\" target=\"_parent\"><img src=\"https://colab.research.google.com/assets/colab-badge.svg\" alt=\"Open In Colab\"/></a>"
      ]
    },
    {
      "cell_type": "code",
      "metadata": {
        "id": "NirLUBO7st-g"
      },
      "source": [
        "from random import randint\r\n",
        "\r\n",
        "x=(input(\"Como te llamas? \"))\r\n",
        "print(\"Hola\"+x)\r\n",
        "jugar=input(\"Quieres Jugar? Si\\n No \\n\")\r\n",
        "while jugar == \"si\" :\r\n",
        "  mas=int(input(\"intenta adivinar el numero que estoy pensando \\n Cual es el numero?\"))\r\n",
        "  v=randint(1,10)\r\n",
        "  if v == mas:\r\n",
        "    print(\"Correcto el nuero era\", v)\r\n",
        "  elif :\r\n",
        "    print(\"Incorrecto el numero era \", v)\r\n",
        "    jugar=input(\"Quieres Jugar? Si\\n No \\n\")\r\n",
        "\r\n",
        "\r\n",
        "  \r\n",
        "\r\n"
      ],
      "execution_count": null,
      "outputs": []
    },
    {
      "cell_type": "markdown",
      "metadata": {
        "id": "FUxSGgmn6O0z"
      },
      "source": [
        "En este capítulo crearás el juego “Adivina el Número”. La computadora pensará un número\r\n",
        "aleatorio entre 1 y 20, y te pedirá que intentes adivinarlo. La computadora te dirá si cada intentoes muy alto o muy bajo. Tú ganas si adivinas el número en seis intentos o menos"
      ]
    },
    {
      "cell_type": "code",
      "metadata": {
        "id": "fPtBcx48uGqF",
        "colab": {
          "base_uri": "https://localhost:8080/"
        },
        "outputId": "86e38964-93fb-48cf-8143-f00215d970a9"
      },
      "source": [
        "print('¿Qué sale de la cruza entre un mono y un pato?')\r\n",
        "input()\r\n",
        "print('¡Un monopatín!')"
      ],
      "execution_count": 4,
      "outputs": [
        {
          "output_type": "stream",
          "text": [
            "¿Qué sale de la cruza entre un mono y un pato?\n",
            "\n",
            "¡Un monopatín!\n"
          ],
          "name": "stdout"
        }
      ]
    },
    {
      "cell_type": "code",
      "metadata": {
        "colab": {
          "base_uri": "https://localhost:8080/"
        },
        "id": "ekUU38aH0iN-",
        "outputId": "286f0a9a-a6f9-4405-d276-c12c5e0186ce"
      },
      "source": [
        "print('¿En qué se parecen una familia, un bombero y un barco?')\r\n",
        "input()\r\n",
        "print(\"No sé... ¿en qué se parecen?\")\r\n",
        "input()\r\n",
        "print('En que el bombero y el barco tienen casco.')\r\n",
        "input()\r\n",
        "print('¿Y la familia?', end='')\r\n",
        "print(' -Bien, gracias.') \r\n"
      ],
      "execution_count": 8,
      "outputs": [
        {
          "output_type": "stream",
          "text": [
            "¿En qué se parecen una familia, un bombero y un barco?\n",
            "\n",
            "No sé... ¿en qué se parecen?\n",
            "\n",
            "En que el bombero y el barco tienen casco.\n",
            "\n",
            "¿Y la familia? -Bien, gracias.\n"
          ],
          "name": "stdout"
        }
      ]
    },
    {
      "cell_type": "markdown",
      "metadata": {
        "id": "ow_yquZ03Set"
      },
      "source": [
        "Estás en una tierra llena de dragones. Frente a tí\r\n",
        "hay dos cuevas. En una de ellas, el dragón es generoso y amigable\r\n",
        "y compartirá su tesoro contigo. El otro dragón\r\n",
        "es codicioso y está hambriento, y te devorará inmediatamente.\r\n",
        "¿A qué cueva quieres entrar? (1 ó 2)\r\n",
        "1\r\n",
        "Te aproximas a la cueva...\r\n",
        "Es oscura y espeluznante...\r\n",
        "¡Un gran dragon aparece súbitamente frente a tí! Abre sus fauces y...\r\n",
        "¡Te engulle de un bocado!\r\n",
        "¿Quieres jugar de nuevo? (sí or no)\r\n",
        "no"
      ]
    },
    {
      "cell_type": "code",
      "metadata": {
        "colab": {
          "base_uri": "https://localhost:8080/"
        },
        "id": "w1JugOeu1MWa",
        "outputId": "d98d18f1-f240-41fb-8565-4b296ceabaf9"
      },
      "source": [
        "import random\r\n",
        "print(azar)\r\n",
        "seguir=\"\"\r\n",
        "while seguir != \"no\":\r\n",
        "  azar=random.randint(1,2)\r\n",
        "  numero=int(input(\"elige una opcion\"))\r\n",
        "  if numero == azar:\r\n",
        "    print(\"Te aproximas a la cueva\")\r\n",
        "    input() \r\n",
        "    print(\"Es oscura y espeluznante\")\r\n",
        "    input()\r\n",
        "    print(\"¡Un gran dragon aparece súbitamente frente a tí! Abre sus fauces y... ¡Te engulle de un bocado!\")\r\n",
        "  else:\r\n",
        "    print(\"Ganaste\")\r\n",
        "  seguir=input(\"Quieres seguir Jugando?\")\r\n",
        "print(\"Gracias por Jugar\")\r\n",
        "\r\n",
        "\r\n"
      ],
      "execution_count": 46,
      "outputs": [
        {
          "output_type": "stream",
          "text": [
            "1\n",
            "elige una opcion1\n",
            "Ganaste\n",
            "Quieres seguir Jugando?l\n",
            "elige una opcion2\n",
            "Te aproximas a la cueva\n",
            "\n",
            "Es oscura y espeluznante\n",
            "\n",
            "¡Un gran dragon aparece súbitamente frente a tí! Abre sus fauces y... ¡Te engulle de un bocado!\n",
            "Quieres seguir Jugando?no\n",
            "Gracias por Jugar\n"
          ],
          "name": "stdout"
        }
      ]
    },
    {
      "cell_type": "code",
      "metadata": {
        "id": "op6ykijb4bNN"
      },
      "source": [
        ""
      ],
      "execution_count": null,
      "outputs": []
    }
  ]
}