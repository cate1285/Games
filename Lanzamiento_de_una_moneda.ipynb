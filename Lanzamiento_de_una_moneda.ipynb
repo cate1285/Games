{
  "nbformat": 4,
  "nbformat_minor": 0,
  "metadata": {
    "colab": {
      "name": "Lanzamiento de una moneda",
      "provenance": [],
      "authorship_tag": "ABX9TyMn/oeyCkmTadD34PCwA2Rc",
      "include_colab_link": true
    },
    "kernelspec": {
      "name": "python3",
      "display_name": "Python 3"
    }
  },
  "cells": [
    {
      "cell_type": "markdown",
      "metadata": {
        "id": "view-in-github",
        "colab_type": "text"
      },
      "source": [
        "<a href=\"https://colab.research.google.com/github/cate1285/Games/blob/main/Lanzamiento_de_una_moneda.ipynb\" target=\"_parent\"><img src=\"https://colab.research.google.com/assets/colab-badge.svg\" alt=\"Open In Colab\"/></a>"
      ]
    },
    {
      "cell_type": "code",
      "metadata": {
        "id": "8MTVtnw6r7jJ"
      },
      "source": [
        ""
      ],
      "execution_count": 9,
      "outputs": []
    },
    {
      "cell_type": "markdown",
      "metadata": {
        "id": "S6vCR-jIsZxJ"
      },
      "source": [
        "Aquí un programa que simula lanzamientos de moneda llamando un random.randint(0,1). La\r\n",
        "función al retornar 1 será “cara” y 0 será “cruz”. La variable lanzamientos registará cuantos\r\n",
        "lanzamientos se efectuaron. La variable cara registará cuantos han salido cara."
      ]
    },
    {
      "cell_type": "code",
      "metadata": {
        "colab": {
          "base_uri": "https://localhost:8080/"
        },
        "id": "-Pj3rlnbsbCa",
        "outputId": "bf524532-9bd5-4074-feab-142357aad97d"
      },
      "source": [
        "import random \r\n",
        "\r\n",
        "sello=0\r\n",
        "lanzamiento=0\r\n",
        "cara = 0\r\n",
        "while lanzamiento < 1000:\r\n",
        "  numero=random.randint(0,1)\r\n",
        "  if numero ==0:\r\n",
        "    cara = cara +1\r\n",
        "  elif numero !=0:\r\n",
        "    sello=sello+1\r\n",
        "  lanzamiento=lanzamiento+1\r\n",
        "\r\n",
        "print(\"El numero de caras es \" + str(cara) +\" ,  El numero de Lanzamientos totales fue de \"+ str(lanzamiento))\r\n"
      ],
      "execution_count": 65,
      "outputs": [
        {
          "output_type": "stream",
          "text": [
            "El numero de caras es 519 ,  El numero de Lanzamientos totales fue de 1000\n"
          ],
          "name": "stdout"
        }
      ]
    },
    {
      "cell_type": "code",
      "metadata": {
        "id": "dB_Di2Wsu4Pm"
      },
      "source": [
        ""
      ],
      "execution_count": 9,
      "outputs": []
    }
  ]
}