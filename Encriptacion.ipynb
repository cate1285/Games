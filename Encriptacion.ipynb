{
  "nbformat": 4,
  "nbformat_minor": 0,
  "metadata": {
    "colab": {
      "name": "Encriptacion.ipynb",
      "provenance": [],
      "collapsed_sections": [],
      "authorship_tag": "ABX9TyOtfR2qhnGGdtnDtgZQsvb1",
      "include_colab_link": true
    },
    "kernelspec": {
      "name": "python3",
      "display_name": "Python 3"
    },
    "language_info": {
      "name": "python"
    }
  },
  "cells": [
    {
      "cell_type": "markdown",
      "metadata": {
        "id": "view-in-github",
        "colab_type": "text"
      },
      "source": [
        "<a href=\"https://colab.research.google.com/github/cate1285/Games/blob/main/Encriptacion.ipynb\" target=\"_parent\"><img src=\"https://colab.research.google.com/assets/colab-badge.svg\" alt=\"Open In Colab\"/></a>"
      ]
    },
    {
      "cell_type": "markdown",
      "metadata": {
        "id": "NGLlAtnf22uW"
      },
      "source": [
        "CIFRADO CESAR\n"
      ]
    },
    {
      "cell_type": "code",
      "metadata": {
        "colab": {
          "base_uri": "https://localhost:8080/"
        },
        "id": "zTDWEXFs26QK",
        "outputId": "29a5acfc-7894-445f-c7d6-9b17c638cf8c"
      },
      "source": [
        "abecedario={\"a\":97,\"b\":98,\"c\":99,\"d\":100,\"e\":101,\"f\":102,\"g\":103,\"h\":104,\"i\":105,\"j\":106,\"k\":107,\"l\":108,\"m\":109,\"n\":110,\"o\":111,\"p\":112,\"q\":113,\"r\":11,\"o\":111,\"p\":112,\"q\":113,\"r\":114,\"s\":115,\"t\":116,\"u\":117,\"v\":118,\"w\":119,\"x\":120,\"y\":121,\"z\":122}\n",
        "texto=\"holahola\"\n",
        "listt=[]\n",
        "while True:\n",
        "  for i in texto:\n",
        "    for u,x in abecedario.items():\n",
        "      if u ==i:\n",
        "        suma=x+3\n",
        "        listt.append(suma)\n",
        "        break\n",
        "  print(listt)\n",
        "\n",
        "  lista2=[]\n",
        "  for i in listt:\n",
        "    for u,x in abecedario.items():\n",
        "      if i==x:\n",
        "        lista2.append(u)\n",
        "  print(lista2)\n",
        "\n",
        "  break\n",
        "\n",
        "  \n",
        "\n",
        "\n",
        "  \n"
      ],
      "execution_count": 72,
      "outputs": [
        {
          "output_type": "stream",
          "text": [
            "[107, 114, 111, 100, 107, 114, 111, 100]\n",
            "['k', 'r', 'o', 'd', 'k', 'r', 'o', 'd']\n"
          ],
          "name": "stdout"
        }
      ]
    },
    {
      "cell_type": "code",
      "metadata": {
        "colab": {
          "base_uri": "https://localhost:8080/"
        },
        "id": "OE3qLcJUH-4J",
        "outputId": "99b0496c-6772-4a0f-eaaa-f084309a0ab6"
      },
      "source": [
        "lista3=[]\n",
        "x=\"El cielo sobre el puerto era el color del televisor, sintonizando un canal muerto\"\n",
        "clave=13\n",
        "for i in x:\n",
        "  w=ord(i)+clave\n",
        "  lista3.append(w)\n",
        "print(lista3)\n",
        "lista4=[]\n",
        "for i in lista3:\n",
        "  v=chr(i)\n",
        "  lista4.append(v)\n",
        "print(lista4)"
      ],
      "execution_count": 89,
      "outputs": [
        {
          "output_type": "stream",
          "text": [
            "[82, 121, 45, 112, 118, 114, 121, 124, 45, 128, 124, 111, 127, 114, 45, 114, 121, 45, 125, 130, 114, 127, 129, 124, 45, 114, 127, 110, 45, 114, 121, 45, 112, 124, 121, 124, 127, 45, 113, 114, 121, 45, 129, 114, 121, 114, 131, 118, 128, 124, 127, 57, 45, 128, 118, 123, 129, 124, 123, 118, 135, 110, 123, 113, 124, 45, 130, 123, 45, 112, 110, 123, 110, 121, 45, 122, 130, 114, 127, 129, 124]\n",
            "['R', 'y', '-', 'p', 'v', 'r', 'y', '|', '-', '\\x80', '|', 'o', '\\x7f', 'r', '-', 'r', 'y', '-', '}', '\\x82', 'r', '\\x7f', '\\x81', '|', '-', 'r', '\\x7f', 'n', '-', 'r', 'y', '-', 'p', '|', 'y', '|', '\\x7f', '-', 'q', 'r', 'y', '-', '\\x81', 'r', 'y', 'r', '\\x83', 'v', '\\x80', '|', '\\x7f', '9', '-', '\\x80', 'v', '{', '\\x81', '|', '{', 'v', '\\x87', 'n', '{', 'q', '|', '-', '\\x82', '{', '-', 'p', 'n', '{', 'n', 'y', '-', 'z', '\\x82', 'r', '\\x7f', '\\x81', '|']\n"
          ],
          "name": "stdout"
        }
      ]
    },
    {
      "cell_type": "code",
      "metadata": {
        "colab": {
          "base_uri": "https://localhost:8080/"
        },
        "id": "gBWhTG18oS3e",
        "outputId": "e88438d5-45bf-446b-d891-f602b41a2ecb"
      },
      "source": [
        "TAM_MAX_CLAVE = 26\n",
        "\n",
        "def obtenerModo():\n",
        "  while True:\n",
        "    print(\"desea encriptar o desencriptar un mensaje\")\n",
        "    modo = input().lower()\n",
        "    if modo in \"encriptar o desencriptar d \".split():\n",
        "      return modo\n",
        "    else:\n",
        "      print(\"ingresa encriptar o desencriptar o d\")\n",
        "\n",
        "def obtenerMensaje():\n",
        "  print(\"Ingresa tu mensaje\")\n",
        "  return input()\n",
        "\n",
        "\n",
        "def obtenerClave():\n",
        "  clave=0\n",
        "  while True:\n",
        "    print(\"ingresa  el numero clave (1-%s)\"% (TAM_MAX_CLAVE))\n",
        "    clave = int(input())\n",
        "    if (clave >= 1 and clave <= TAM_MAX_CLAVE):\n",
        "      return clave\n",
        "\n",
        "def obtenerMensajeTraducido(modo,mensaje,clave):\n",
        "  if modo[0]==\"d\":\n",
        "    clave= -clave\n",
        "  traduccion= \"\"\n",
        "\n",
        "  for simbolo in mensaje:\n",
        "    if simbolo.isalpha():\n",
        "      num = ord(simbolo)\n",
        "      num += clave\n",
        "      if simbolo.isupper():\n",
        "        if num > ord(\"Z\"):\n",
        "          num-= 26\n",
        "        elif num < ord (\"A\"):\n",
        "          num +=26\n",
        "      elif simbolo.islower():\n",
        "        if num >ord(\"z\"):\n",
        "          num -= 26\n",
        "        elif num < ord (\"a\"):\n",
        "          num += 26\n",
        "\n",
        "      traduccion += chr(num)\n",
        "    else:\n",
        "      traduccion += simbolo\n",
        "  return traduccion\n",
        "\n",
        "modo = obtenerModo()\n",
        "mensaje = obtenerMensaje()\n",
        "clave = obtenerClave()\n",
        "\n",
        "print(\"tu texto es \")\n",
        "print(obtenerMensajeTraducido(modo,mensaje,clave))\n",
        "\n",
        "     \n"
      ],
      "execution_count": 92,
      "outputs": [
        {
          "output_type": "stream",
          "text": [
            "desea encriptar o desencriptar un mensaje\n",
            "encriptar\n",
            "Ingresa tu mensaje\n",
            "hola\n",
            "ingresa  el numero clave (1-26)\n",
            "3\n",
            "tu texto es \n",
            "krod\n"
          ],
          "name": "stdout"
        }
      ]
    },
    {
      "cell_type": "markdown",
      "metadata": {
        "id": "WPdoVP9ouCVc"
      },
      "source": [
        "MODO FUERZA BRUTA"
      ]
    },
    {
      "cell_type": "code",
      "metadata": {
        "colab": {
          "base_uri": "https://localhost:8080/"
        },
        "id": "XqRRQXRS2p2V",
        "outputId": "77652547-7d55-4e69-9cc3-ae7fdc34fb7e"
      },
      "source": [
        "TAM_MAX_CLAVE = 26\n",
        "\n",
        "def obtenerModo():\n",
        "  while True:\n",
        "    print(\"desea encriptar o desencriptar o decifrar por fuerza bruta un mensaje\")\n",
        "    modo = input().lower()\n",
        "    if modo in \"encriptar o desencriptar d bruta b\".split():\n",
        "      return modo[0]\n",
        "    else:\n",
        "      print(\"ingresa encriptar o desencriptar o d o bruta o b\")\n",
        "\n",
        "def obtenerMensaje():\n",
        "  print(\"Ingresa tu mensaje\")\n",
        "  return input()\n",
        "\n",
        "\n",
        "def obtenerClave():\n",
        "  clave=0\n",
        "  while True:\n",
        "    print(\"ingresa  el numero clave (1-%s)\"% (TAM_MAX_CLAVE))\n",
        "    clave = int(input())\n",
        "    if (clave >= 1 and clave <= TAM_MAX_CLAVE):\n",
        "      return clave\n",
        "\n",
        "def obtenerMensajeTraducido(modo,mensaje,clave):\n",
        "  if modo[0]==\"d\":\n",
        "    clave= -clave\n",
        "  traduccion= \"\"\n",
        "\n",
        "  for simbolo in mensaje:\n",
        "    if simbolo.isalpha():\n",
        "      num = ord(simbolo)\n",
        "      num += clave\n",
        "      if simbolo.isupper():\n",
        "        if num > ord(\"Z\"):\n",
        "          num-= 26\n",
        "        elif num < ord (\"A\"):\n",
        "          num +=26\n",
        "      elif simbolo.islower():\n",
        "        if num >ord(\"z\"):\n",
        "          num -= 26\n",
        "        elif num < ord (\"a\"):\n",
        "          num += 26\n",
        "\n",
        "      traduccion += chr(num)\n",
        "    else:\n",
        "      traduccion += simbolo\n",
        "  return traduccion\n",
        "\n",
        "modo = obtenerModo()\n",
        "mensaje = obtenerMensaje()\n",
        "if modo [0] != \"b\":\n",
        "  clave = obtenerClave()\n",
        "\n",
        "print(\"Tu texto traducido es:\")\n",
        "if modo[0] != \"b\":\n",
        "  print(obtenerMensajeTraducido(modo,mensaje,clave))\n",
        "else:\n",
        "  for clave in range (1, TAM_MAX_CLAVE + 1):\n",
        "    print(clave, obtenerMensajeTraducido(\"desencriptar\", mensaje, clave))\n",
        "\n"
      ],
      "execution_count": 10,
      "outputs": [
        {
          "output_type": "stream",
          "text": [
            "desea encriptar o desencriptar o decifrar por fuerza bruta un mensaje\n",
            "b\n",
            "Ingresa tu mensaje\n",
            "Ti lcli xcmlm vw amz iozilijtm, xmzw ti kmzbmhi ma ijaczli.\n",
            "Tu texto traducido es:\n",
            "1 Sh kbkh wblkl uv zly hnyhkhisl, wlyv sh jlyalgh lz hizbykh.\n",
            "2 Rg jajg vakjk tu ykx gmxgjghrk, vkxu rg ikxzkfg ky ghyaxjg.\n",
            "3 Qf izif uzjij st xjw flwfifgqj, ujwt qf hjwyjef jx fgxzwif.\n",
            "4 Pe hyhe tyihi rs wiv ekvehefpi, tivs pe givxide iw efwyvhe.\n",
            "5 Od gxgd sxhgh qr vhu djudgdeoh, shur od fhuwhcd hv devxugd.\n",
            "6 Nc fwfc rwgfg pq ugt citcfcdng, rgtq nc egtvgbc gu cduwtfc.\n",
            "7 Mb eveb qvfef op tfs bhsbebcmf, qfsp mb dfsufab ft bctvseb.\n",
            "8 La duda puede no ser agradable, pero la certeza es absurda.\n",
            "9 Kz ctcz otdcd mn rdq zfqzczakd, odqn kz bdqsdyz dr zartqcz.\n",
            "10 Jy bsby nscbc lm qcp yepybyzjc, ncpm jy acprcxy cq yzqspby.\n",
            "11 Ix arax mrbab kl pbo xdoxaxyib, mbol ix zboqbwx bp xyproax.\n",
            "12 Hw zqzw lqaza jk oan wcnwzwxha, lank hw yanpavw ao wxoqnzw.\n",
            "13 Gv ypyv kpzyz ij nzm vbmvyvwgz, kzmj gv xzmozuv zn vwnpmyv.\n",
            "14 Fu xoxu joyxy hi myl ualuxuvfy, jyli fu wylnytu ym uvmolxu.\n",
            "15 Et wnwt inxwx gh lxk tzktwtuex, ixkh et vxkmxst xl tulnkwt.\n",
            "16 Ds vmvs hmwvw fg kwj syjsvstdw, hwjg ds uwjlwrs wk stkmjvs.\n",
            "17 Cr ulur glvuv ef jvi rxirurscv, gvif cr tvikvqr vj rsjliur.\n",
            "18 Bq tktq fkutu de iuh qwhqtqrbu, fuhe bq suhjupq ui qrikhtq.\n",
            "19 Ap sjsp ejtst cd htg pvgpspqat, etgd ap rtgitop th pqhjgsp.\n",
            "20 Zo riro disrs bc gsf ouforopzs, dsfc zo qsfhsno sg opgifro.\n",
            "21 Yn qhqn chrqr ab fre ntenqnoyr, creb yn pregrmn rf nofheqn.\n",
            "22 Xm pgpm bgqpq za eqd msdmpmnxq, bqda xm oqdfqlm qe mnegdpm.\n",
            "23 Wl ofol afpop yz dpc lrclolmwp, apcz wl npcepkl pd lmdfcol.\n",
            "24 Vk nenk zeono xy cob kqbknklvo, zoby vk mobdojk oc klcebnk.\n",
            "25 Uj mdmj ydnmn wx bna jpajmjkun, ynax uj lnacnij nb jkbdamj.\n",
            "26 Ti lcli xcmlm vw amz iozilijtm, xmzw ti kmzbmhi ma ijaczli.\n"
          ],
          "name": "stdout"
        }
      ]
    }
  ]
}