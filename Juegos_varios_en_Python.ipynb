{
  "cells": [
    {
      "cell_type": "markdown",
      "metadata": {
        "colab_type": "text",
        "id": "view-in-github"
      },
      "source": [
        "<a href=\"https://colab.research.google.com/github/cate1285/Games/blob/main/Juegos_en_Python.ipynb\" target=\"_parent\"><img src=\"https://colab.research.google.com/assets/colab-badge.svg\" alt=\"Open In Colab\"/></a>"
      ]
    },
    {
      "cell_type": "code",
      "execution_count": null,
      "metadata": {
        "id": "NirLUBO7st-g"
      },
      "outputs": [],
      "source": [
        "from random import randint\n",
        "\n",
        "x=(input(\"Como te llamas? \"))\n",
        "print(\"Hola\"+x)\n",
        "jugar=input(\"Quieres Jugar? Si\\n No \\n\")\n",
        "while jugar == \"si\" :\n",
        "  mas=int(input(\"intenta adivinar el numero que estoy pensando \\n Cual es el numero?\"))\n",
        "  v=randint(1,10)\n",
        "  if v == mas:\n",
        "    print(\"Correcto el numero era\", v)\n",
        "  else:\n",
        "    print(\"Incorrecto el numero era \", v)\n",
        "    jugar=input(\"Quieres Jugar? Si\\n No \\n\")\n",
        "\n",
        "\n",
        "  \n",
        "\n"
      ]
    },
    {
      "cell_type": "markdown",
      "metadata": {
        "id": "FUxSGgmn6O0z"
      },
      "source": [
        "En este capítulo crearás el juego “Adivina el Número”. La computadora pensará un número\n",
        "aleatorio entre 1 y 20, y te pedirá que intentes adivinarlo. La computadora te dirá si cada intentoes muy alto o muy bajo. Tú ganas si adivinas el número en seis intentos o menos"
      ]
    },
    {
      "cell_type": "code",
      "execution_count": 4,
      "metadata": {
        "colab": {
          "base_uri": "https://localhost:8080/"
        },
        "id": "fPtBcx48uGqF",
        "outputId": "86e38964-93fb-48cf-8143-f00215d970a9"
      },
      "outputs": [
        {
          "name": "stdout",
          "output_type": "stream",
          "text": [
            "¿Qué sale de la cruza entre un mono y un pato?\n",
            "\n",
            "¡Un monopatín!\n"
          ]
        }
      ],
      "source": [
        "print('¿Qué sale de la cruza entre un mono y un pato?')\n",
        "input()\n",
        "print('¡Un monopatín!')"
      ]
    },
    {
      "cell_type": "code",
      "execution_count": 8,
      "metadata": {
        "colab": {
          "base_uri": "https://localhost:8080/"
        },
        "id": "ekUU38aH0iN-",
        "outputId": "286f0a9a-a6f9-4405-d276-c12c5e0186ce"
      },
      "outputs": [
        {
          "name": "stdout",
          "output_type": "stream",
          "text": [
            "¿En qué se parecen una familia, un bombero y un barco?\n",
            "\n",
            "No sé... ¿en qué se parecen?\n",
            "\n",
            "En que el bombero y el barco tienen casco.\n",
            "\n",
            "¿Y la familia? -Bien, gracias.\n"
          ]
        }
      ],
      "source": [
        "print('¿En qué se parecen una familia, un bombero y un barco?')\n",
        "input()\n",
        "print(\"No sé... ¿en qué se parecen?\")\n",
        "input()\n",
        "print('En que el bombero y el barco tienen casco.')\n",
        "input()\n",
        "print('¿Y la familia?', end='')\n",
        "print(' -Bien, gracias.') \n"
      ]
    },
    {
      "cell_type": "markdown",
      "metadata": {
        "id": "ow_yquZ03Set"
      },
      "source": [
        "Estás en una tierra llena de dragones. Frente a tí\n",
        "hay dos cuevas. En una de ellas, el dragón es generoso y amigable\n",
        "y compartirá su tesoro contigo. El otro dragón\n",
        "es codicioso y está hambriento, y te devorará inmediatamente.\n",
        "¿A qué cueva quieres entrar? (1 ó 2)\n",
        "1\n",
        "Te aproximas a la cueva...\n",
        "Es oscura y espeluznante...\n",
        "¡Un gran dragon aparece súbitamente frente a tí! Abre sus fauces y...\n",
        "¡Te engulle de un bocado!\n",
        "¿Quieres jugar de nuevo? (sí or no)\n",
        "no"
      ]
    },
    {
      "cell_type": "code",
      "execution_count": 46,
      "metadata": {
        "colab": {
          "base_uri": "https://localhost:8080/"
        },
        "id": "w1JugOeu1MWa",
        "outputId": "d98d18f1-f240-41fb-8565-4b296ceabaf9"
      },
      "outputs": [
        {
          "name": "stdout",
          "output_type": "stream",
          "text": [
            "1\n",
            "elige una opcion1\n",
            "Ganaste\n",
            "Quieres seguir Jugando?l\n",
            "elige una opcion2\n",
            "Te aproximas a la cueva\n",
            "\n",
            "Es oscura y espeluznante\n",
            "\n",
            "¡Un gran dragon aparece súbitamente frente a tí! Abre sus fauces y... ¡Te engulle de un bocado!\n",
            "Quieres seguir Jugando?no\n",
            "Gracias por Jugar\n"
          ]
        }
      ],
      "source": [
        "import random\n",
        "print(azar)\n",
        "seguir=\"\"\n",
        "while seguir != \"no\":\n",
        "  azar=random.randint(1,2)\n",
        "  numero=int(input(\"elige una opcion\"))\n",
        "  if numero == azar:\n",
        "    print(\"Te aproximas a la cueva\")\n",
        "    input() \n",
        "    print(\"Es oscura y espeluznante\")\n",
        "    input()\n",
        "    print(\"¡Un gran dragon aparece súbitamente frente a tí! Abre sus fauces y... ¡Te engulle de un bocado!\")\n",
        "  else:\n",
        "    print(\"Ganaste\")\n",
        "  seguir=input(\"Quieres seguir Jugando?\")\n",
        "print(\"Gracias por Jugar\")\n",
        "\n",
        "\n"
      ]
    },
    {
      "cell_type": "code",
      "execution_count": null,
      "metadata": {
        "id": "op6ykijb4bNN"
      },
      "outputs": [],
      "source": []
    }
  ],
  "metadata": {
    "colab": {
      "authorship_tag": "ABX9TyP9nYNNhgJaUC+H9870WP8d",
      "collapsed_sections": [],
      "include_colab_link": true,
      "name": "Juegos en Python",
      "provenance": []
    },
    "kernelspec": {
      "display_name": "Python 3",
      "name": "python3"
    }
  },
  "nbformat": 4,
  "nbformat_minor": 0
}
